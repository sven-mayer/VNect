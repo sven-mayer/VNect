{
 "cells": [
  {
   "cell_type": "code",
   "execution_count": 1,
   "metadata": {},
   "outputs": [],
   "source": [
    "import scipy.io as sio\n",
    "import numpy as np\n",
    "import pandas as pd\n",
    "import matplotlib.pyplot as plt\n",
    "import cv2\n",
    "import os"
   ]
  },
  {
   "cell_type": "code",
   "execution_count": 2,
   "metadata": {},
   "outputs": [
    {
     "name": "stdout",
     "output_type": "stream",
     "text": [
      "[1, 2, 3, 4, 5, 6, 7, 8]\n"
     ]
    }
   ],
   "source": [
    "root_dir = './mpi_inf_3dhp';\n",
    "\n",
    "def isS(s):\n",
    "    return s.startswith(\"S\")\n",
    "\n",
    "def sToInt (s):\n",
    "    return int(s.split(\"S\")[-1])\n",
    "sids = sorted(list(filter(isS, os.listdir(root_dir))))\n",
    "sids  = list(map(sToInt, sids))\n",
    "print(sids)\n",
    "\n",
    "scaler = 368 / 2048;"
   ]
  },
  {
   "cell_type": "code",
   "execution_count": 3,
   "metadata": {},
   "outputs": [
    {
     "name": "stdout",
     "output_type": "stream",
     "text": [
      "convert annotation data to pandas DataFrame in ./mpi_inf_3dhp\n",
      "loading ./mpi_inf_3dhp/S1/Seq1/annot.mat\n",
      "loading ./mpi_inf_3dhp/S1/Seq2/annot.mat\n",
      "loading ./mpi_inf_3dhp/S2/Seq1/annot.mat\n",
      "loading ./mpi_inf_3dhp/S2/Seq2/annot.mat\n",
      "loading ./mpi_inf_3dhp/S3/Seq1/annot.mat\n",
      "loading ./mpi_inf_3dhp/S3/Seq2/annot.mat\n",
      "loading ./mpi_inf_3dhp/S4/Seq1/annot.mat\n",
      "loading ./mpi_inf_3dhp/S4/Seq2/annot.mat\n",
      "loading ./mpi_inf_3dhp/S5/Seq1/annot.mat\n",
      "loading ./mpi_inf_3dhp/S5/Seq2/annot.mat\n",
      "loading ./mpi_inf_3dhp/S6/Seq1/annot.mat\n",
      "loading ./mpi_inf_3dhp/S6/Seq2/annot.mat\n",
      "loading ./mpi_inf_3dhp/S7/Seq1/annot.mat\n",
      "loading ./mpi_inf_3dhp/S7/Seq2/annot.mat\n",
      "loading ./mpi_inf_3dhp/S8/Seq1/annot.mat\n",
      "loading ./mpi_inf_3dhp/S8/Seq2/annot.mat\n"
     ]
    }
   ],
   "source": [
    "print('convert annotation data to pandas DataFrame in %s' % root_dir)\n",
    "dfs = []\n",
    "for sid in sids:\n",
    "    for s in [1,2]:\n",
    "        file =  '%s/S%d/Seq%d/annot.mat' % (root_dir, sid, s)\n",
    "        print('loading %s' % file)\n",
    "        mat = sio.loadmat(file)\n",
    "        df = pd.DataFrame(mat[\"frames\"])\n",
    "        df.columns = [\"Frame\"]\n",
    "        df[\"SId\"] = sid\n",
    "        df[\"Seq\"] = s\n",
    "        for c in mat[\"cameras\"][0]:\n",
    "            videoFile = '%s/S%d/Seq%d/imageSequence/video_%i.avi' % (root_dir, sid, s, c)\n",
    "            if(os.path.exists(videoFile)):\n",
    "                df[\"annot2_%i\" % c] = mat[\"annot2\"][c][0].tolist()\n",
    "                df[\"annot3_%i\" % c] = mat[\"annot3\"][c][0].tolist()\n",
    "                df[\"univ_annot3_%i\" % c] = mat[\"univ_annot3\"][c][0].tolist()\n",
    "        dfs.append(df)"
   ]
  },
  {
   "cell_type": "code",
   "execution_count": 4,
   "metadata": {},
   "outputs": [],
   "source": [
    "df = pd.concat(dfs)"
   ]
  },
  {
   "cell_type": "code",
   "execution_count": 5,
   "metadata": {},
   "outputs": [
    {
     "data": {
      "image/png": "[encoded data removed]",
      "text/plain": [
       "<Figure size 432x288 with 1 Axes>"
      ]
     },
     "metadata": {
      "needs_background": "light"
     },
     "output_type": "display_data"
    }
   ],
   "source": [
    "df.groupby(\"SId\").count().Frame.plot(kind=\"bar\")\n",
    "plt.ylabel(\"Sample Count\")\n",
    "plt.xlabel(\"Subject Id\")\n",
    "plt.show()"
   ]
  },
  {
   "cell_type": "code",
   "execution_count": null,
   "metadata": {},
   "outputs": [],
   "source": [
    "sid = 1\n",
    "s = 1\n",
    "c = 1\n",
    "frame = 100\n",
    "e = df[(df.SId == sid) & (df.Seq == s) & (df.Frame == frame)].iloc[0]\n",
    "\n",
    "videoFile = '%s/S%d/Seq%d/imageSequence/video_%i.avi' % (root_dir, sid, s, c)\n",
    "video = cv2.VideoCapture(videoFile)\n",
    "video.set(cv2.CAP_PROP_POS_FRAMES, frame)\n",
    "ret, imgSequence = video.read()\n",
    "plt.imshow(cv2.cvtColor(imgSequence, cv2.COLOR_BGR2RGB))\n",
    "plt.scatter(e[\"annot2_%i\" % c][::2], e[\"annot2_%i\" % c][1::2])\n",
    "\n",
    "#videoFile = '%s/S%d/Seq%d/FGmasks/video_%i.avi' % (root_dir, sid, s, c)\n",
    "#video = cv2.VideoCapture(videoFile)\n",
    "#video.set(cv2.CAP_PROP_POS_FRAMES, frame)\n",
    "#ret, imgFGmasks = video.read()"
   ]
  },
  {
   "cell_type": "code",
   "execution_count": 7,
   "metadata": {},
   "outputs": [
    {
     "data": {
      "text/plain": [
       "[0, 1, 2, 4, 5, 6, 7, 8]"
      ]
     },
     "execution_count": 7,
     "metadata": {},
     "output_type": "execute_result"
    }
   ],
   "source": [
    "cams = sorted(list(filter(lambda x: x.startswith(\"univ_annot3_\"), df.columns)))\n",
    "cams  = list(map(lambda x: int(x.split(\"univ_annot3_\")[-1]), cams))\n",
    "cams"
   ]
  },
  {
   "cell_type": "code",
   "execution_count": 8,
   "metadata": {},
   "outputs": [],
   "source": [
    "dfs = []\n",
    "for c in cams:\n",
    "    dfX = df[[\"SId\",\"Seq\", \"Frame\", \"univ_annot3_%i\" % c]].copy(deep=True)\n",
    "    dfX = dfX.rename(columns={\"univ_annot3_%i\" % c : \"UnivAnnot3\"})\n",
    "    dfX[\"Camera\"] = c\n",
    "    dfs.append(dfX)\n",
    "dfLong = pd.concat(dfs)\n",
    "dfLong = dfLong.sort_values([\"SId\",\"Seq\", \"Frame\", \"Camera\"])[[\"SId\",\"Seq\", \"Frame\", \"Camera\", \"UnivAnnot3\"]]"
   ]
  },
  {
   "cell_type": "code",
   "execution_count": 9,
   "metadata": {},
   "outputs": [],
   "source": [
    "dfLong.to_pickle(\"./mpi_inf_3dhp/annot.pkl\")"
   ]
  }
 ],
 "metadata": {
  "kernelspec": {
   "display_name": "Python 3",
   "language": "python",
   "name": "python3"
  },
  "language_info": {
   "codemirror_mode": {
    "name": "ipython",
    "version": 3
   },
   "file_extension": ".py",
   "mimetype": "text/x-python",
   "name": "python",
   "nbconvert_exporter": "python",
   "pygments_lexer": "ipython3",
   "version": "3.6.8"
  }
 },
 "nbformat": 4,
 "nbformat_minor": 2
}
